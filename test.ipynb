{
 "cells": [
  {
   "cell_type": "code",
   "execution_count": null,
   "metadata": {},
   "outputs": [],
   "source": [
    "{\n",
    "    'p1': [\n",
    "        '\\x1b[38;2;0;255;0m4\\x1b[39m',\n",
    "        '\\x1b[38;2;0;255;0mreverse\\x1b[39m',\n",
    "        '\\x1b[38;2;255;255;0mreverse\\x1b[39m',\n",
    "        '\\x1b[38;2;0;51;255m7\\x1b[39m',\n",
    "        '\\x1b[38;2;0;255;0m5\\x1b[39m',\n",
    "        '\\x1b[38;2;0;51;255m4\\x1b[39m'\n",
    "    ]\n",
    "}"
   ]
  },
  {
   "cell_type": "code",
   "execution_count": 6,
   "metadata": {},
   "outputs": [
    {
     "data": {
      "text/plain": [
       "'custom +4'"
      ]
     },
     "execution_count": 6,
     "metadata": {},
     "output_type": "execute_result"
    }
   ],
   "source": [
    "def removeColor(card,returnType):\n",
    "    colorCode, cardText = card.split(\"\\x1b[\")[1].split(\"m\", 1)\n",
    "    return \"\\x1b[\"+colorCode+\"m\" if returnType == \"color\" else cardText\n",
    "\n",
    "removeColor(\"\\x1b[38;2;0;51;255mcustom +4\\x1b[39m\",\"text\")"
   ]
  }
 ],
 "metadata": {
  "kernelspec": {
   "display_name": "Python 3",
   "language": "python",
   "name": "python3"
  },
  "language_info": {
   "codemirror_mode": {
    "name": "ipython",
    "version": 3
   },
   "file_extension": ".py",
   "mimetype": "text/x-python",
   "name": "python",
   "nbconvert_exporter": "python",
   "pygments_lexer": "ipython3",
   "version": "3.11.1"
  }
 },
 "nbformat": 4,
 "nbformat_minor": 2
}
